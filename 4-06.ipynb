{
 "メタデータ"：{
  " language_info "：{
   " codemirror_mode "：{
    "名前"： " ipython "、
    「バージョン」： 3
   }、
   " file_extension "： " .py "、
   " mimetype "： " text / x-python "、
   "名前"： " python "、
   " nbconvert_exporter "： " python "、
   " pygments_lexer "： " ipython3 "、
   「バージョン」： 3
   "バージョン"： " 3.8.2-final "
  }、
  " orig_nbformat "： 2
  " orig_nbformat "： 2、
  " kernelspec "：{
   "名前"： " python_defaultSpec_1598115611978 "、
   " display_name "： " Python 3.8.2 32ビット"
  }
 }、
 " nbformat "： 4、
 " nbformat_minor "： 2、
 "セル"：[
  {
   " cell_type "： "コード"、
   " execution_count "： 1、
   "メタデータ"：{
    "タグ"：[]
   }、
   "出力"：[
    {
     " output_type "： " stream "、
     "名前"： " stdout "、
     "テキスト"： " 100 \ n "
    }
   ]、
   「ソース」：[
    " def square（x）：\ n "、
    "     '' '与えられた数値の２乗を返す' '' \ n "、
    "     x ** 2を返す\ n "、
    「\ n 」、
    「 print（square（10））」
   ]
  }、
  {
   " cell_type "： "コード"、
   "実行カウント"： 2、
   "メタデータ"：{
    "タグ"：[]
   }、
   "出力"：[
    {
     " output_type "： " stream "、
     "名前"： " stdout "、
     "テキスト"： " 100 \ n "
    }
   ]、
   「ソース」：[
    " sq_func = lambda x：x ** 2 \ n "、
    「\ n 」、
    「 print（sq_func（10））」
   ]
  }、
  {
   " cell_type "： "コード"、
   「 execution_count 」： 4、
   "メタデータ"：{
    "タグ"：[]
   }、
   "出力"：[
    {
     " output_type "： " stream "、
     "名前"： " stdout "、
     " text "： "文字列リスト：['no。1'、 'no。2'、 'no。3'、 'no。4'、 'no。5'、 'no。6'、 'no。7 '、' 8番 '、' 9番 '、'10番'] \ n "
    }
   ]、
   「ソース」：[
    " i_num_list = range（1,11）\ n "、
    " s_num_list = list（map（lambda i：\" no。\ " + str（i）、i_num_list））\ n "、
    " print（\"文字列リスト：\ "、s_num_list）"
   ]
  }、
  {
   " cell_type "： "コード"、
   「 execution_count 」： 5、
   "メタデータ"：{
    "タグ"：[]
   }、
   "出力"：[
    {
     " output_type "： " stream "、
     "名前"： " stdout "、
     "テキスト"： " no.1 no.2 no.3 no.4 no.5 no.6 no.7 no.8 no.9 no.10 "
    }
   ]、
   「ソース」：[
    "＃数値を文字に変換して修飾します\ n "、
    " mapのsの場合（lambda i：\" no。\ " + str（i）、range（1,11））：\ n "、
    "     print（s、end = \"  \ "）"
   ]
  }、
  {
   " cell_type "： "コード"、
   「 execution_count 」： 7、
   "メタデータ"：{
    "タグ"：[]
   }、
   "出力"：[
    {
     " output_type "： " stream "、
     "名前"： " stdout "、
     "テキスト"： " 2 4 6 8 10 "
    }
   ]、
   「ソース」：[
    "＃偶数だけ取得します\ n "、
    "フィルターのeの場合（lambda i：i％2 == 0、range（1,11））：\ n "、
    "     print（e、end = \"  \ "）"
   ]
  }、
  {
   " cell_type "： "コード"、
   「 execution_count 」： 8、
   "メタデータ"：{
    "タグ"：[]
   }、
   "出力"：[
    {
     " output_type "： " stream "、
     "名前"： " stdout "、
     "テキスト"： " 2 4 6 8 10 "
    }
   ]、
   「ソース」：[
    " def is_even（x）：\ n "、
    "     '' '偶数ならTrue' '' \ n "、
    "     return x％2 == 0 \ n "、
    「\ n 」、
    "＃偶数だけ取得します\ n "、
    " for e in filter（is_even、range（1,11））：\ n "、
    "     print（e、end = \"  \ "）"
   ]
  }、
  {
   " cell_type "： "コード"、
   「 execution_count 」： 9、
   "メタデータ"：{
    "タグ"：[]
   }、
   "出力"：[
    {
     " output_type "： " stream "、
     "名前"： " stdout "、
     " text "： " [（2、 'down'）、（1、 'up'）、（4、 'charm'）、（3、 'strange'）、（6、 'top'）、（5、 'ボトム '）] \ n "
    }
   ]、
   「ソース」：[
    "ペア= [（2、 'ダウン'）、（1、 'アップ'）、（4、 'チャーム'）、（3、 'ストレンジ'）、（6、 'トップ'）、（5、 'ボトム' ）] \ n "、
    「プリント（ペア）」
   ]
  }、
  {
   " cell_type "： "コード"、
   "実行カウント"： 11、
   "メタデータ"：{
    "タグ"：[]
   }、
   "出力"：[
    {
     " output_type "： " stream "、
     "名前"： " stdout "、
     " text "： " [（1、 'up'）、（2、 'down'）、（3、 'strange'）、（4、 'charm'）、（5、 'bottom'）、（6、 ' top '）] \ n "
    }
   ]、
   「ソース」：[
    " pairs.sort（）\ n "、
    「プリント（ペア）」
   ]
  }、
  {
   " cell_type "： "コード"、
   「 execution_count 」： 12、
   "メタデータ"：{
    "タグ"：[]
   }、
   "出力"：[
    {
     " output_type "： " stream "、
     "名前"： " stdout "、
     " text "： " [（5、 'bottom'）、（4、 'charm'）、（2、 'down'）、（3、 'strange'）、（6、 'top'）、（1、 ' up '）] \ n "
    }
   ]、
   「ソース」：[
    " pairs.sort（key = lambda x：x [1]）\ n "、
    「プリント（ペア）」
   ]
  }、
  {
   " cell_type "： "コード"、
   「 execution_count 」： 13、
   "メタデータ"：{
    "タグ"：[]
   }、
   "出力"：[
    {
     " output_type "： " stream "、
     "名前"： " stdout "、
     " text "： " [（1、 'up'）、（6、 'top'）、（3、 'strange'）、（2、 'down'）、（4、 'charm'）、（5、 'ボトム '）] \ n "
    }
   ]、
   「ソース」：[
    " pairs.sort（key = lambda x：x [1]、reverse = True）\ n "、
    「プリント（ペア）」
   ]
  }、
  {
   " cell_type "： "コード"、
   「 execution_count 」： 14、
   「メタデータ」：{}、
   "出力"：[
    {
     " output_type "： " execute_result "、
     "データ"：{
      " text / plain "： " 'odd' "
     }、
     「メタデータ」：{}、
     " execution_count "： 14
    }
   ]、
   「ソース」：[
    " n = 3 \ n "、
    " func = lambda b：\" even \ " if（n％2 == 0）else \" odd \ "\ n "、
    「 func（n）」
   ]
  }、
  {
   " cell_type "： "コード"、
   「 execution_count 」： 15、
   "メタデータ"：{
    "タグ"：[]
   }、
   "出力"：[
    {
     " output_type "： " stream "、
     "名前"： " stdout "、
     "テキスト"： "奇数\ n "
    }
   ]、
   「ソース」：[
    " n = 3 \ n "、
    " x = \"偶数\ " if（n％2 == 0）else \"奇数\ "\ n "、
    「 print（x）」
   ]
  }、
  {
   " cell_type "： "コード"、
   「 execution_count 」： 16、
   "メタデータ"：{
    "タグ"：[]
   }、
   "出力"：[
    {
     " output_type "： " stream "、
     "名前"： " stdout "、
     "テキスト"： "奇数\ n "
    }
   ]、
   「ソース」：[
    " n = 3 \ n "、
    " if（n％2 == 0）：\ n "、
    "     x = \"でも\ "\ n "、
    " else：\ n "、
    "     x = \"奇数\ "\ n "、
    「 print（x）」
   ]
  }、
  {
   " cell_type "： "コード"、
   "実行カウント"： 17、
   「メタデータ」：{}、
   "出力"：[
    {
     " output_type "： " execute_result "、
     "データ"：{
      " text / plain "： " [1、2、3、4、5、6、7] "
     }、
     「メタデータ」：{}、
     「 execution_count 」： 17
    }
   ]、
   「ソース」：[
    「リスト（範囲（1,8））」
   ]
  }、
  {
   " cell_type "： "コード"、
   "実行カウント"： 18、
   「メタデータ」：{}、
   "出力"：[
    {
     " output_type "： " execute_result "、
     "データ"：{
      " text / plain "： " '0005' "
     }、
     「メタデータ」：{}、
     「 execution_count 」： 18
    }
   ]、
   「ソース」：[
    " \" {：04} \ " .format（5）"
   ]
  }、
  {
   " cell_type "： "コード"、
   "実行カウント"： 19、
   「メタデータ」：{}、
   "出力"：[
    {
     " output_type "： " execute_result "、
     "データ"：{
      " text / plain "： " <map at 0x6b67b20> "
     }、
     「メタデータ」：{}、
     "実行カウント"： 19
    }
   ]、
   「ソース」：[
    " str_num_list = map（lambda x：\" {：04} \ " .format（x）、range（1,8））\ n "、
    「 str_num_list 」
   ]
  }、
  {
   " cell_type "： "コード"、
   "実行回数"： 20、
   "メタデータ"：{
    "タグ"：[]
   }、
   "出力"：[
    {
     " output_type "： " stream "、
     "名前"： " stdout "、
     " text "： " ['0001'、 '0002'、 '0003'、 '0004'、 '0005'、 '0006'、 '0007'] \ n "
    }
   ]、
   「ソース」：[
    「 print（list（str_num_list））」
   ]
  }、
  {
   " cell_type "： "コード"、
   "実行カウント"： 22、
   "メタデータ"：{
    "タグ"：[]
   }、
   "出力"：[
    {
     " output_type "： " stream "、
     "名前"： " stdout "、
     " text "： " ['0001'、 '0002'、 '0003'、 '0004'、 '0005'、 '0006'、 '0007'] \ n "
    }
   ]、
   「ソース」：[
    " print（[ \" {：0 = 4} \ " .format（x）for x in range（1,8）]）"
   ]
  }、
  {
   " cell_type "： "コード"、
   "実行カウント"： 23、
   "メタデータ"：{
    "タグ"：[]
   }、
   "出力"：[
    {
     " output_type "： " stream "、
     "名前"： " stdout "、
     " text "： " <ジェネレータオブジェクト<genexpr> at 0x05356290> \ n "
    }
   ]、
   「ソース」：[
    " print（（\" {：0 = 4} \ " .format（x）for x for range（1,8）））"
   ]
  }、
  {
   " cell_type "： "コード"、
   "実行カウント"： 24、
   "メタデータ"：{
    "タグ"：[]
   }、
   "出力"：[
    {
     " output_type "： " stream "、
     "名前"： " stdout "、
     " text "： " ['0001'、 '0002'、 '0003'、 '0004'、 '0005'、 '0006'、 '0007'] \ n "
    }
   ]、
   「ソース」：[
    " print（list（\" {：0 = 4} \ " .format（x）for x in range（1,8）））"
   ]
  }、
  {
   " cell_type "： "コード"、
   "実行カウント"： 29、
   "メタデータ"：{
    "タグ"：[]
   }、
   "出力"：[
    {
     " output_type "： " stream "、
     "名前"： " stdout "、
     " text "： " i、name、height、weight \ n 0 n40 170 72 \ n "
    }
   ]、
   「ソース」：[
    "ランダムにインポート\ n "、
    " def generate_students_data（num_students = 10）：\ n "、
    "     '' '生徒名、身長、体重からなるデータをランダムに生成する\ n "、
    「\ n 」、
    "     引数：num_students：生徒の人数を取る\ n "、
    "     戻り：num_students個のタプル（生徒名、身長、体重）からなるリスト\ n "、
    「\ n 」、
    "データ     の内容\ n "、
    "         生徒名 'nXX' XXは10から50の番号\ n "、
    "         身長150-190cmからランダムに選んだ値\ n "、
    "         体重50-80kgからランダムに選んだ値\ n "、
    "     '' ' \ n "、
    「\ n 」、
    "     student_data = [] \ n "、
    "     範囲内のi（num_students）：\ n "、
    "         name = 'n' + str（random.randint（10,50））\ n "、
    "         height = random.randint（150,190）\ n "、
    "         weight = random.randint（50,80）\ n "、
    "         student_data.append（（name、height、weight））\ n "、
    "         i == 0の場合：print（ 'i、name、height、weight'）\ n "、
    "         i <2またはi == num_students -1：if \ n "の場合、
    "             print（i、name、height、weight）\ n "、
    "         elif i == 2：\ n "、
    "             print（ '...'）\ n "、
    "         return student_data \ n "、
    「\ n 」、
    「 students_data = generate_students_data（10）             」
   ]
  }、
  {
   " cell_type "： "コード"、
   「 execution_count 」： 30、
   「メタデータ」：{}、
   "出力"：[
    {
     " output_type "： " execute_result "、
     "データ"：{
      " text / plain "： " [（ 'n40'、170、72）] "
     }、
     「メタデータ」：{}、
     " execution_count "： 30
    }
   ]、
   「ソース」：[
    「 students_data 」
   ]
  }、
  {
   " cell_type "： "コード"、
   「 execution_count 」： 34、
   「メタデータ」：{}、
   "出力"：[]、
   「ソース」：[
    " student_by_height = Sorted（students_data、key = lambda s：s [1]）\ n "、
    「 students_by_weight = Sorted（students_data、key = lambda s：s [2]）」
   ]
  }、
  {
   " cell_type "： "コード"、
   "実行カウント"： 32、
   "メタデータ"：{
    "タグ"：[]
   }、
   "出力"：[
    {
     " output_type "： " stream "、
     "名前"： " stdout "、
     " text "： " \ n高さで並べ替え\ n（ 'n40'、170、72）\ n "
    }
   ]、
   「ソース」：[
    " print（ ' \\ nsort by height'）\ n "、
    " students_by_heightの学生の場合：\ n "、
    「     印刷（学生）」
   ]
  }、
  {
   " cell_type "： "コード"、
   "実行カウント"： 35、
   "メタデータ"：{
    "タグ"：[]
   }、
   "出力"：[
    {
     " output_type "： " stream "、
     "名前"： " stdout "、
     " text "： " \ n重量で並べ替え\ n（ 'n40'、170、72）\ n "
    }
   ]、
   「ソース」：[
    " print（ ' \\ nsort by weight'）\ n "、
    " student_by_weightの学生の場合：\ n "、
    「     印刷（学生）」
   ]
  }、
  {
   " cell_type "： "コード"、
   「 execution_count 」： null、
   「メタデータ」：{}、
   "出力"：[]、
   「ソース」：[]
  }
 ]
}